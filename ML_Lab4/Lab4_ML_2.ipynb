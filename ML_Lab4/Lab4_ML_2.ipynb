{
  "cells": [
    {
      "cell_type": "code",
      "execution_count": 28,
      "metadata": {
        "id": "B2bSqOudQngP"
      },
      "outputs": [],
      "source": [
        "import numpy as np\n",
        "import pandas as pd \n",
        "import matplotlib.pyplot as plt\n",
        "%matplotlib inline\n",
        "import tensorflow as tf"
      ]
    },
    {
      "cell_type": "code",
      "execution_count": 29,
      "metadata": {
        "colab": {
          "base_uri": "https://localhost:8080/"
        },
        "id": "A-_19oNaQscR",
        "outputId": "9a2dff17-02f9-4555-94b5-263862563618"
      },
      "outputs": [
        {
          "name": "stdout",
          "output_type": "stream",
          "text": [
            "2.7.0\n"
          ]
        }
      ],
      "source": [
        "import seaborn as sns\n",
        "\n",
        "from tensorflow import keras\n",
        "from tensorflow.keras import layers\n",
        "from tensorflow.keras.layers.experimental import preprocessing\n",
        "\n",
        "print(tf.__version__)"
      ]
    },
    {
      "cell_type": "code",
      "execution_count": 30,
      "metadata": {
        "id": "rsED4TnJQ8vx"
      },
      "outputs": [],
      "source": [
        "# Input (temp, rainfall, humidity)\n",
        "inputs = np.array([[73, 67, 43], [91, 88, 64], [87, 134, 58], [102, 43, 37], [69, 96, 70], [73, 67, 43], [91, 88, 64], [87, 134, 58], [102, 43, 37], [69, 96, 70], [73, 67, 43], [91, 88, 64], [87, 134, 58], [102, 43, 37], [69, 96, 70]], dtype='float32')\n",
        "# Targets (apples)\n",
        "targets = np.array([[56], [81], [119], [22], [103], \n",
        "                    [56], [81], [119], [22], [103], \n",
        "                    [56], [81], [119], [22], [103]], dtype='float32')"
      ]
    },
    {
      "cell_type": "code",
      "execution_count": 31,
      "metadata": {
        "id": "31fNEJH6Q_ER"
      },
      "outputs": [],
      "source": [
        "df_inputs = pd.DataFrame(inputs, columns = ['temp','rainfall','humidity'])\n",
        "features = df_inputs.copy()\n",
        "train_features = features[:10]\n",
        "test_features = features[10:] \n",
        "\n",
        "df_targets = pd.DataFrame(targets, columns = ['apples'])\n",
        "label = df_targets.copy()\n",
        "train_label =  label[:10]\n",
        "test_label = label[10:]"
      ]
    },
    {
      "cell_type": "code",
      "execution_count": 32,
      "metadata": {
        "colab": {
          "base_uri": "https://localhost:8080/",
          "height": 143
        },
        "id": "dOLpS3kVRGcQ",
        "outputId": "4baacf78-58ed-4188-a421-642645b36ed9"
      },
      "outputs": [
        {
          "data": {
            "text/html": [
              "<div>\n",
              "<style scoped>\n",
              "    .dataframe tbody tr th:only-of-type {\n",
              "        vertical-align: middle;\n",
              "    }\n",
              "\n",
              "    .dataframe tbody tr th {\n",
              "        vertical-align: top;\n",
              "    }\n",
              "\n",
              "    .dataframe thead th {\n",
              "        text-align: right;\n",
              "    }\n",
              "</style>\n",
              "<table border=\"1\" class=\"dataframe\">\n",
              "  <thead>\n",
              "    <tr style=\"text-align: right;\">\n",
              "      <th></th>\n",
              "      <th>mean</th>\n",
              "      <th>std</th>\n",
              "    </tr>\n",
              "  </thead>\n",
              "  <tbody>\n",
              "    <tr>\n",
              "      <th>temp</th>\n",
              "      <td>84.400002</td>\n",
              "      <td>12.712199</td>\n",
              "    </tr>\n",
              "    <tr>\n",
              "      <th>rainfall</th>\n",
              "      <td>85.599998</td>\n",
              "      <td>32.031929</td>\n",
              "    </tr>\n",
              "    <tr>\n",
              "      <th>humidity</th>\n",
              "      <td>54.400002</td>\n",
              "      <td>13.175735</td>\n",
              "    </tr>\n",
              "  </tbody>\n",
              "</table>\n",
              "</div>"
            ],
            "text/plain": [
              "               mean        std\n",
              "temp      84.400002  12.712199\n",
              "rainfall  85.599998  32.031929\n",
              "humidity  54.400002  13.175735"
            ]
          },
          "execution_count": 32,
          "metadata": {},
          "output_type": "execute_result"
        }
      ],
      "source": [
        "train_features.describe().transpose()[['mean', 'std']]"
      ]
    },
    {
      "cell_type": "code",
      "execution_count": 33,
      "metadata": {
        "colab": {
          "base_uri": "https://localhost:8080/",
          "height": 567
        },
        "id": "wh9YbIFAROBa",
        "outputId": "acfe221e-84df-4a5b-dad3-82a5a4e80761"
      },
      "outputs": [
        {
          "data": {
            "text/plain": [
              "<seaborn.axisgrid.PairGrid at 0x237d02341c0>"
            ]
          },
          "execution_count": 33,
          "metadata": {},
          "output_type": "execute_result"
        },
        {
          "data": {
            "image/png": "[encoded data removed]",
            "text/plain": [
              "<Figure size 540x540 with 12 Axes>"
            ]
          },
          "metadata": {
            "needs_background": "light"
          },
          "output_type": "display_data"
        }
      ],
      "source": [
        "sns.pairplot(train_features[['temp', 'rainfall', 'humidity']], diag_kind='kde')"
      ]
    },
    {
      "cell_type": "code",
      "execution_count": 34,
      "metadata": {
        "id": "sV1lbHAaRQuy"
      },
      "outputs": [],
      "source": [
        "from sklearn.preprocessing import Normalizer\n",
        "import sklearn.preprocessing"
      ]
    },
    {
      "cell_type": "code",
      "execution_count": 35,
      "metadata": {
        "id": "aJ-qrYXjRTUq"
      },
      "outputs": [],
      "source": [
        "temp = np.array(train_features['temp'])\n",
        "\n",
        "temp_normalizer = preprocessing.Normalization(input_shape=[1, ], axis = None)\n",
        "temp_normalizer.adapt(temp)"
      ]
    },
    {
      "cell_type": "code",
      "execution_count": 36,
      "metadata": {
        "id": "mn4fcO6HRVyj"
      },
      "outputs": [],
      "source": [
        "temp_linear_model = tf.keras.Sequential([\n",
        "    temp_normalizer,\n",
        "    layers.Dense(units=1)           \n",
        "])"
      ]
    },
    {
      "cell_type": "code",
      "execution_count": 37,
      "metadata": {
        "id": "e6cVYO_8RYe7"
      },
      "outputs": [],
      "source": [
        "temp_linear_model.compile(\n",
        "    optimizer = tf.optimizers.Adam(learning_rate = 0.1),\n",
        "    loss='mean_absolute_error')"
      ]
    },
    {
      "cell_type": "code",
      "execution_count": 38,
      "metadata": {
        "colab": {
          "base_uri": "https://localhost:8080/"
        },
        "id": "Qinc7bp1Rceo",
        "outputId": "1c29439f-4e16-466b-a4ab-70b21d493aa6"
      },
      "outputs": [
        {
          "name": "stdout",
          "output_type": "stream",
          "text": [
            "Wall time: 26.2 s\n"
          ]
        }
      ],
      "source": [
        "%%time\n",
        "history = temp_linear_model.fit(\n",
        "    train_features['temp'], train_label,\n",
        "    epochs = 1000,\n",
        "    # suppress logging\n",
        "    verbose = 0,\n",
        "    # Calculate validation results on 10% of the training data\n",
        "    validation_split = 0.3)"
      ]
    },
    {
      "cell_type": "code",
      "execution_count": 39,
      "metadata": {
        "colab": {
          "base_uri": "https://localhost:8080/",
          "height": 363
        },
        "id": "SYbUnVKHRfiu",
        "outputId": "0aab5bb0-269c-48e4-fed7-464a3c13e4f6"
      },
      "outputs": [
        {
          "data": {
            "text/html": [
              "<div>\n",
              "<style scoped>\n",
              "    .dataframe tbody tr th:only-of-type {\n",
              "        vertical-align: middle;\n",
              "    }\n",
              "\n",
              "    .dataframe tbody tr th {\n",
              "        vertical-align: top;\n",
              "    }\n",
              "\n",
              "    .dataframe thead th {\n",
              "        text-align: right;\n",
              "    }\n",
              "</style>\n",
              "<table border=\"1\" class=\"dataframe\">\n",
              "  <thead>\n",
              "    <tr style=\"text-align: right;\">\n",
              "      <th></th>\n",
              "      <th>loss</th>\n",
              "      <th>val_loss</th>\n",
              "      <th>epoch</th>\n",
              "    </tr>\n",
              "  </thead>\n",
              "  <tbody>\n",
              "    <tr>\n",
              "      <th>990</th>\n",
              "      <td>27.708231</td>\n",
              "      <td>47.937687</td>\n",
              "      <td>990</td>\n",
              "    </tr>\n",
              "    <tr>\n",
              "      <th>991</th>\n",
              "      <td>27.702206</td>\n",
              "      <td>47.951096</td>\n",
              "      <td>991</td>\n",
              "    </tr>\n",
              "    <tr>\n",
              "      <th>992</th>\n",
              "      <td>27.696123</td>\n",
              "      <td>47.966080</td>\n",
              "      <td>992</td>\n",
              "    </tr>\n",
              "    <tr>\n",
              "      <th>993</th>\n",
              "      <td>27.689989</td>\n",
              "      <td>47.982487</td>\n",
              "      <td>993</td>\n",
              "    </tr>\n",
              "    <tr>\n",
              "      <th>994</th>\n",
              "      <td>27.683817</td>\n",
              "      <td>48.000172</td>\n",
              "      <td>994</td>\n",
              "    </tr>\n",
              "    <tr>\n",
              "      <th>995</th>\n",
              "      <td>27.677597</td>\n",
              "      <td>48.019024</td>\n",
              "      <td>995</td>\n",
              "    </tr>\n",
              "    <tr>\n",
              "      <th>996</th>\n",
              "      <td>27.671343</td>\n",
              "      <td>48.038910</td>\n",
              "      <td>996</td>\n",
              "    </tr>\n",
              "    <tr>\n",
              "      <th>997</th>\n",
              "      <td>27.665052</td>\n",
              "      <td>48.059742</td>\n",
              "      <td>997</td>\n",
              "    </tr>\n",
              "    <tr>\n",
              "      <th>998</th>\n",
              "      <td>27.658735</td>\n",
              "      <td>48.081421</td>\n",
              "      <td>998</td>\n",
              "    </tr>\n",
              "    <tr>\n",
              "      <th>999</th>\n",
              "      <td>27.652386</td>\n",
              "      <td>48.103870</td>\n",
              "      <td>999</td>\n",
              "    </tr>\n",
              "  </tbody>\n",
              "</table>\n",
              "</div>"
            ],
            "text/plain": [
              "          loss   val_loss  epoch\n",
              "990  27.708231  47.937687    990\n",
              "991  27.702206  47.951096    991\n",
              "992  27.696123  47.966080    992\n",
              "993  27.689989  47.982487    993\n",
              "994  27.683817  48.000172    994\n",
              "995  27.677597  48.019024    995\n",
              "996  27.671343  48.038910    996\n",
              "997  27.665052  48.059742    997\n",
              "998  27.658735  48.081421    998\n",
              "999  27.652386  48.103870    999"
            ]
          },
          "execution_count": 39,
          "metadata": {},
          "output_type": "execute_result"
        }
      ],
      "source": [
        "hist = pd.DataFrame(history.history)\n",
        "hist['epoch'] = history.epoch\n",
        "hist.tail(10)"
      ]
    },
    {
      "cell_type": "code",
      "execution_count": 40,
      "metadata": {
        "id": "bH84km5LRjbR"
      },
      "outputs": [],
      "source": [
        "test_results = {}\n",
        "test_results['temp_linear_model'] = temp_linear_model.evaluate(\n",
        "    test_features['temp'],\n",
        "    test_label, verbose=0)"
      ]
    },
    {
      "cell_type": "code",
      "execution_count": 41,
      "metadata": {
        "colab": {
          "base_uri": "https://localhost:8080/"
        },
        "id": "p38IdCxoRmB_",
        "outputId": "23dcaf17-8b1b-4b26-e172-3efeec57597e"
      },
      "outputs": [
        {
          "data": {
            "text/plain": [
              "33.78336715698242"
            ]
          },
          "execution_count": 41,
          "metadata": {},
          "output_type": "execute_result"
        }
      ],
      "source": [
        "test_results['temp_linear_model']"
      ]
    },
    {
      "cell_type": "code",
      "execution_count": 42,
      "metadata": {
        "colab": {
          "base_uri": "https://localhost:8080/"
        },
        "id": "qv2JIAIbRtpS",
        "outputId": "eb01b726-d990-462b-f62e-833b9a5837c1"
      },
      "outputs": [
        {
          "data": {
            "text/plain": [
              "array([[56.105095],\n",
              "       [56.499866],\n",
              "       [56.41214 ],\n",
              "       [56.74112 ],\n",
              "       [56.01737 ]], dtype=float32)"
            ]
          },
          "execution_count": 42,
          "metadata": {},
          "output_type": "execute_result"
        }
      ],
      "source": [
        "y = temp_linear_model.predict(test_features['temp'])\n",
        "y\n"
      ]
    },
    {
      "cell_type": "code",
      "execution_count": 43,
      "metadata": {
        "colab": {
          "base_uri": "https://localhost:8080/"
        },
        "id": "Tq-B4t-sRwj-",
        "outputId": "24de2288-f9d8-4563-9cd4-80aa4129be7d"
      },
      "outputs": [
        {
          "name": "stdout",
          "output_type": "stream",
          "text": [
            "0    0.270764\n",
            "1    0.337528\n",
            "2    0.322692\n",
            "3    0.378328\n",
            "4    0.255928\n",
            "5    0.270764\n",
            "6    0.337528\n",
            "7    0.322692\n",
            "8    0.378328\n",
            "9    0.255928\n",
            "Name: temp, dtype: float32\n",
            "10    0.382919\n",
            "11    0.477337\n",
            "12    0.456355\n",
            "13    0.535037\n",
            "14    0.361937\n",
            "Name: temp, dtype: float32\n",
            "0    0.211808\n",
            "1    0.306366\n",
            "2    0.450093\n",
            "3    0.083210\n",
            "4    0.389576\n",
            "5    0.211808\n",
            "6    0.306366\n",
            "7    0.450093\n",
            "8    0.083210\n",
            "9    0.389576\n",
            "Name: apples, dtype: float32\n"
          ]
        }
      ],
      "source": [
        "norm_test_features = np.linalg.norm(test_features['temp'])\n",
        "norm_train_features = np.linalg.norm(train_features['temp'])\n",
        "# norm_test_label = np.linalg.norm(test_label['temp'])\n",
        "norm_train_label = np.linalg.norm(train_label['apples'])\n",
        "\n",
        "\n",
        "normal_array_test_features = test_features['temp']/norm_test_features\n",
        "normal_array_train_features = train_features['temp']/norm_train_features\n",
        "normal_array_train_label = train_label['apples']/norm_train_label\n",
        "\n",
        "print(normal_array_train_features)\n",
        "print(normal_array_test_features)\n",
        "print(normal_array_train_label)"
      ]
    },
    {
      "cell_type": "code",
      "execution_count": 44,
      "metadata": {
        "colab": {
          "base_uri": "https://localhost:8080/",
          "height": 279
        },
        "id": "vVVCcvb0R55o",
        "outputId": "8aa95f7d-ad6b-48e6-f0bf-408ce5b0bfd2"
      },
      "outputs": [
        {
          "data": {
            "image/png": "[encoded data removed]",
            "text/plain": [
              "<Figure size 432x288 with 1 Axes>"
            ]
          },
          "metadata": {
            "needs_background": "light"
          },
          "output_type": "display_data"
        }
      ],
      "source": [
        "def plot_Apples(x, y):\n",
        "  plt.scatter(train_features['temp'], train_label['apples'], label = 'Data')\n",
        "  plt.plot(x, y, color='g', label = 'Predictions')\n",
        "  plt.xlabel('Temp')\n",
        "  plt.ylabel('Apples')\n",
        "  plt.legend()\n",
        "  \n",
        "plot_Apples(test_features['temp'], y)"
      ]
    },
    {
      "cell_type": "code",
      "execution_count": 45,
      "metadata": {
        "id": "v5yJGVDzR-Ik"
      },
      "outputs": [],
      "source": [
        "normalizer = preprocessing.Normalization(axis = -1)"
      ]
    },
    {
      "cell_type": "code",
      "execution_count": 46,
      "metadata": {
        "id": "wDJTKphUSF2q"
      },
      "outputs": [],
      "source": [
        "normalizer.adapt(np.array(train_features))"
      ]
    },
    {
      "cell_type": "code",
      "execution_count": 47,
      "metadata": {
        "id": "nW8ERVB8SKWj"
      },
      "outputs": [],
      "source": [
        "linear_model = tf.keras.Sequential([\n",
        "    normalizer,\n",
        "    layers.Dense(units = 1)\n",
        "])"
      ]
    },
    {
      "cell_type": "code",
      "execution_count": 48,
      "metadata": {
        "colab": {
          "base_uri": "https://localhost:8080/"
        },
        "id": "pVdVQvIrSMuC",
        "outputId": "224c1f90-b28f-4f6c-c552-48b1ed3ff782"
      },
      "outputs": [
        {
          "data": {
            "text/plain": [
              "array([[ 1.4295608],\n",
              "       [-0.6296491],\n",
              "       [-2.0002978],\n",
              "       [ 1.7456362],\n",
              "       [-0.5452498],\n",
              "       [ 1.4295608],\n",
              "       [-0.6296491],\n",
              "       [-2.0002978],\n",
              "       [ 1.7456362]], dtype=float32)"
            ]
          },
          "execution_count": 48,
          "metadata": {},
          "output_type": "execute_result"
        }
      ],
      "source": [
        "linear_model.predict(train_features[:9])"
      ]
    },
    {
      "cell_type": "code",
      "execution_count": 49,
      "metadata": {
        "id": "vCSkXvu5SRHX"
      },
      "outputs": [],
      "source": [
        "linear_model.compile(\n",
        "    optimizer=tf.optimizers.Adam(learning_rate = 0.1),\n",
        "    loss='mean_absolute_error')"
      ]
    },
    {
      "cell_type": "code",
      "execution_count": 26,
      "metadata": {
        "colab": {
          "base_uri": "https://localhost:8080/"
        },
        "id": "ZCFSgkj4STVv",
        "outputId": "e716d8f1-ec50-4adb-8eef-40e4da6eef5c"
      },
      "outputs": [
        {
          "name": "stdout",
          "output_type": "stream",
          "text": [
            "Wall time: 23.5 s\n"
          ]
        }
      ],
      "source": [
        "%%time\n",
        "history = linear_model.fit(\n",
        "    train_features, train_label, \n",
        "    epochs = 1000,\n",
        "    # suppress logging\n",
        "    verbose=0,\n",
        "    # Calculate validation results on 20% of the training data\n",
        "    validation_split = 0.2)"
      ]
    },
    {
      "cell_type": "code",
      "execution_count": 27,
      "metadata": {
        "colab": {
          "base_uri": "https://localhost:8080/"
        },
        "id": "-y7AcKViSVZI",
        "outputId": "1f460d57-5e5f-42a4-fa41-c529811348bb"
      },
      "outputs": [
        {
          "data": {
            "text/plain": [
              "0.8979339599609375"
            ]
          },
          "execution_count": 27,
          "metadata": {},
          "output_type": "execute_result"
        }
      ],
      "source": [
        "test_results['linear_model'] = linear_model.evaluate(test_features, test_label, verbose = 0)\n",
        "test_results['linear_model']"
      ]
    }
  ],
  "metadata": {
    "colab": {
      "name": "Lab4_ML_2.ipynb",
      "provenance": []
    },
    "kernelspec": {
      "display_name": "Python 3",
      "name": "python3"
    },
    "language_info": {
      "codemirror_mode": {
        "name": "ipython",
        "version": 3
      },
      "file_extension": ".py",
      "mimetype": "text/x-python",
      "name": "python",
      "nbconvert_exporter": "python",
      "pygments_lexer": "ipython3",
      "version": "3.9.2"
    }
  },
  "nbformat": 4,
  "nbformat_minor": 0
}
